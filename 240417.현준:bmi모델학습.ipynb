< 문제 >

# 문제. 500명의 키와 몸무게, 비만도 라벨을 이용해 비만을 판단하는 모델을 만들어보자
import pandas as pd
import matplotlib.pyplot as plt
from sklearn.neighbors import KNeighborsClassifier
from sklearn.model_selection import train_test_split
from sklearn import metrics

# 1. bmi데이터 가져오기(카톡방의 csv파일)

# 2. 데이터 시각화하기(산점도로 출력)

# 3. 모델링 학습 및 평가 후 예측하기(이웃의 수는 10으로 설정)

# 4. 원하는 값 입력해보기(키, 몸무게)






< 풀이 >

import pandas as pd
import matplotlib.pyplot as plt
from sklearn.neighbors import KNeighborsClassifier
from sklearn.model_selection import train_test_split
from sklearn import metrics

# 1. 데이터 가져오기
df = pd.read_csv('./data/bmi_500.csv', index_col='Label')




# 2. 데이터 시각화하기
def scatter(label, color):
    t = df.loc[label]
    plt.scatter(t['Weight'], t['Height'], color=color, label=label)

# t : 해당 레이블에 해당하는 데이터프레임을 의미
# loc : 데이터프레임에서 특정 행(row)을 선택하기 위해 사용되는 인덱서(indexer) : 행의 라벨을 지정하여 해당 행을 선택
# 'Weight'를 x축, 'Height'를 y축


scatter('Extreme Obesity', 'pink')
scatter('Weak', 'black')
scatter('Obesity', 'purple')
scatter('Overweight', 'green')
scatter('Extremely Weak', 'blue')
scatter('Normal', 'red')

plt.legend()
plt.show()





# 3. 모델링 학습 및 평가 후 예측하기
X = df.loc[:, 'Height':'Weight']
y = df.index

X_train, X_test, y_train, y_test = train_test_split(X, y, test_size=0.3, random_state=42)

model = KNeighborsClassifier(n_neighbors=10)
model.fit(X_train, y_train)

#  테스트 데이터에 대해 예측한 값을 기반으로 정확도를 계산하는 부분
y_pred = model.predict(X_test)  
->  모델을 사용하여 테스트 데이터 X_test에 대한 예측 값을 y_pred에 저장 ( 1에 가까울수록 예측이 정확 )
accuracy = metrics.accuracy_score(y_test, y_pred)  
->  metrics 모듈에 있는 accuracy_score 함수를 사용하여 예측 값 y_pred와 실제 값 y_test를 비교하여 정확도를 계산해서 accuracy 변수에 저장

print("Accuracy:", accuracy)






# 4. 원하는 값 입력해보기
new_data = [[100, 50]]
prediction = model.predict(physical)
print("Prediction:", prediction)
