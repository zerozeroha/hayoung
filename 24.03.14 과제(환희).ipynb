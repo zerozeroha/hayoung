
< 문제 >

요트다이스 만들기_01 aka.야추다이스
4 of a Kind, Yacht 구현

# 4 of a Kind : 주사위를 굴려 동일한 주사위 눈이 2개 이상일 때. point에 주사위 눈 3개의 총합 추가.

import random
import math

dice1 = int(random.random()*3+1)
dice2 = int(random.random()*3+1)
dice3 = int(random.random()*3+1)
point = 0

if  :
    point =


print(dice1,dice2,dice3)
print(point)
     
[3, 1, 2]
3 1 2
0

# Yacht : 주사위를 굴려 동일한 주사위 눈이 3개 이상일 때. point에 30점 추가.

dice1 = int(random.random()*3+1)
dice2 = int(random.random()*3+1)
dice3 = int(random.random()*3+1)
point = 0

if  :
    point += 30

print(dice1,dice2,dice3)
print(point)
     
[3, 3, 3]
3 3 3
30


< 풀이 >



# 4 of a Kind : 주사위를 굴려 동일한 주사위 눈이 2개 이상일 때. point에 주사위 눈 3개의 총합 추가.

import random
import math

dice1 = int(random.random()*3+1)
dice2 = int(random.random()*3+1)
dice3 = int(random.random()*3+1)
point = 0

dice1 = int(input())
dice2 = int(input())
dice3 = int(input())

if dice1 == dice2:
    point = print(dice1 + dice2 + dice3)

if dice2 == dice3:
    point = print(dice1 + dice2 + dice3)

if dice1 == dice3:
    point = print(dice1 + dice2 + dice3)
    


print(dice1,dice2,dice3)
print(point)

# Yacht : 주사위를 굴려 동일한 주사위 눈이 3개 이상일 때. point에 30점 추가.

dice1 = int(random.random()*3+1)
dice2 = int(random.random()*3+1)
dice3 = int(random.random()*3+1)
point = 0

dice1 = int(input())
dice2 = int(input())
dice3 = int(input())

if  dice1 == dice2 == dice3:
    point += 30

print(dice1,dice2,dice3)
print(point)




























